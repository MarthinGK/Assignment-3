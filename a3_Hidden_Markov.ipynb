{
  "cells": [
    {
      "cell_type": "code",
      "source": [
        "from hmmlearn.hmm import MultinomialHMM\r\n",
        "import numpy as np\r\n",
        "\r\n",
        "from pomegranate import *\r\n",
        "\r\n",
        "\r\n",
        "d1 = DiscreteDistribution({'cooking': 0.1, 'crying': 0.2, 'sleeping': 0.4, 'socializing': 0.0, 'watching TV': 0.3})\r\n",
        "d2 = DiscreteDistribution({'cooking': 0.3, 'crying': 0.0, 'sleeping': 0.3, 'socializing': 0.3, 'watching TV': 0.1})\r\n",
        "\r\n",
        "s1 = State(d1, name=\"Happy\")\r\n",
        "s2 = State(d2, name=\"Sad\")\r\n",
        "\r\n",
        "model = HiddenMarkovModel()\r\n",
        "model.add_states([s1, s2])\r\n",
        "model.add_transition(model.start, s1, 0.60)\r\n",
        "model.add_transition(model.start, s2, 0.40)\r\n",
        "model.add_transition(s1, s1, 0.90)\r\n",
        "model.add_transition(s1, s2, 0.10)\r\n",
        "model.add_transition(s2, s2, 0.80)\r\n",
        "model.add_transition(s2, s1, 0.20)\r\n",
        "model.bake()\r\n",
        "\r\n",
        "\r\n",
        "model.predict_proba(['crying', 'watching TV'])\r\n"
      ],
      "outputs": [
        {
          "output_type": "execute_result",
          "execution_count": 27,
          "data": {
            "text/plain": "array([[1., 0.]])"
          },
          "metadata": {}
        }
      ],
      "execution_count": 27,
      "metadata": {
        "gather": {
          "logged": 1606246319722
        }
      }
    },
    {
      "cell_type": "code",
      "source": [
        "from hmmlearn.hmm import MultinomialHMM\r\n",
        "import numpy as np\r\n",
        "\r\n",
        "model = MultinomialHMM(n_components=2)\r\n",
        "\r\n",
        "model.startprob = np.array([0.6, 0.4])\r\n",
        "\r\n",
        "model.transmat = np.array([[0.9, 0.1],\r\n",
        "                           [0.2, 0.8]])\r\n",
        "\r\n",
        "model.emissionprob = np.array([[0.1, 0.2, 0.4, 0.0, 0.3],\r\n",
        "                               [0.3, 0.0, 0.3, 0.3, 0.1]])\r\n",
        "\r\n",
        "\r\n",
        "y = np.atleast_2d([2, 2, 3, 1, 5]).T\r\n",
        "\r\n",
        "model = model.fit(y)\r\n",
        "\r\n",
        "print(model.predict(y))\r\n",
        "print(model.predict_proba(y))"
      ],
      "outputs": [
        {
          "output_type": "stream",
          "name": "stderr",
          "text": [
            "WARNING - Fitting a model with 13 free scalar parameters with only 5 data points will result in a degenerate solution.\n"
          ]
        },
        {
          "output_type": "stream",
          "name": "stdout",
          "text": [
            "[1 0 1 0 1]\n"
          ]
        }
      ],
      "execution_count": 8,
      "metadata": {
        "collapsed": true,
        "jupyter": {
          "source_hidden": false,
          "outputs_hidden": false
        },
        "nteract": {
          "transient": {
            "deleting": false
          }
        },
        "gather": {
          "logged": 1606232323486
        }
      }
    }
  ],
  "metadata": {
    "kernelspec": {
      "name": "python3-azureml",
      "language": "python",
      "display_name": "Python 3.6 - AzureML"
    },
    "language_info": {
      "name": "python",
      "version": "3.6.9",
      "mimetype": "text/x-python",
      "codemirror_mode": {
        "name": "ipython",
        "version": 3
      },
      "pygments_lexer": "ipython3",
      "nbconvert_exporter": "python",
      "file_extension": ".py"
    },
    "kernel_info": {
      "name": "python3-azureml"
    },
    "nteract": {
      "version": "nteract-front-end@1.0.0"
    }
  },
  "nbformat": 4,
  "nbformat_minor": 2
}